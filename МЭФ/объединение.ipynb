{
 "cells": [
  {
   "cell_type": "code",
   "execution_count": 69,
   "metadata": {},
   "outputs": [],
   "source": [
    "import numpy as np\n",
    "import pandas as pd\n",
    "import matplotlib.pyplot as plt\n",
    "from sklearn.linear_model import LogisticRegression\n",
    "\n",
    "import re\n",
    "from sklearn import preprocessing\n",
    "\n",
    "Prostranstvo = pd.read_excel(\"Data.xlsx\", sheet_name=\"Prostranstvo\")\n",
    "Dosug = pd.read_excel(\"Data.xlsx\", sheet_name=\"Dosug\")\n",
    "Themes = pd.read_excel(\"Data.xlsx\", sheet_name=\"Themes\")\n",
    "Format = pd.read_excel(\"Data.xlsx\", sheet_name=\"Format\")\n",
    "Motivi = pd.read_excel(\"Data.xlsx\", sheet_name=\"Motivi\")\n",
    "\n",
    "S_Prostranstvo = pd.read_excel(\"S_Data.xlsx\", sheet_name=\"Prostranstvo\")\n",
    "S_Dosug = pd.read_excel(\"S_Data.xlsx\", sheet_name=\"Dosug\")\n",
    "S_Themes = pd.read_excel(\"S_Data.xlsx\", sheet_name=\"Themes\")\n",
    "S_Format = pd.read_excel(\"S_Data.xlsx\", sheet_name=\"Format\")\n",
    "S_Motivi = pd.read_excel(\"S_Data.xlsx\", sheet_name=\"Motivi\")\n",
    "\n",
    "Prostranstvo = pd.concat([Prostranstvo, S_Prostranstvo], axis=0)\n",
    "Dosug = pd.concat([Dosug, S_Dosug], axis=0)\n",
    "Themes = pd.concat([Themes, S_Themes], axis=0)\n",
    "Format = pd.concat([Format, S_Format], axis=0)\n",
    "Motivi = pd.concat([Motivi, S_Motivi], axis=0)\n",
    "\n",
    "Prostranstvo.reset_index(drop=True, inplace=True)\n",
    "Dosug.reset_index(drop=True, inplace=True)\n",
    "Themes.reset_index(drop=True, inplace=True)\n",
    "Format.reset_index(drop=True, inplace=True)\n",
    "Motivi.reset_index(drop=True, inplace=True)"
   ]
  },
  {
   "cell_type": "code",
   "execution_count": 70,
   "metadata": {},
   "outputs": [],
   "source": [
    "def recode_empty_cells(dataframe, list_of_columns):\n",
    "\n",
    "    for column in list_of_columns:\n",
    "      dataframe[column] = dataframe[column].replace(r'\\s+', np.nan, regex=True)\n",
    "      dataframe[column] = dataframe[column].fillna(0)\n",
    "\n",
    "    return dataframe\n",
    "\n",
    "Dosug = Dosug.drop(['Unnamed: 0', 'Stand Up', 'Муз. группа', 'Фотозона', 'Инф.стойки', 'Перекус', 'Тишина', 'Знакомства', 'СКО', 'среднее'], axis=1)\n",
    "Dosug.rename(columns = {'Stand Up норм.': 'Stand Up', 'Муз. группа норм.': 'Муз. группа', 'Фотозона норм.': 'Фотозона', 'Инф.стойки норм.': 'Инф.стойки', 'Перекус норм.': 'Перекус', 'Тишина норм.': 'Тишина', 'Знакомства норм.': 'Знакомства'}, inplace = True)\n",
    "\n",
    "Format = Format.drop(['Unnamed: 0', 'Диалог на равных', 'Мастер-класс', 'Дискуссия', 'Форсайт', 'Выступление', 'Кейс', 'СКО', 'среднее'], axis=1)\n",
    "Format.rename(columns = {'Диалог на равных норм.': 'Диалог на равных', 'Мастер-класс группа норм.': 'Мастер-класс', 'Дискуссия норм.': 'Дискуссия', 'Форсайт норм.': 'Форсайт', 'Выступление норм.': 'Выступление', 'Кейс норм.': 'Кейс'}, inplace = True)\n",
    "\n",
    "Themes = Themes.drop(['Unnamed: 0', 'Старт карьеры', 'Инвестиции beginner', 'Инвестиции intermediate', 'Стартапы', 'Креативные индустрии', 'Импортозамещение в технологиях', 'Санкции и возможности', 'IT', 'Soft skills', 'Профессии будущего', 'Психология и саморазвитие', 'Фин.грамотность', 'Социальное предпринимательство', 'Мировая экономика', 'География карьеры', 'СКО', 'среднее'], axis=1)\n",
    "Themes.rename(columns = {'Старт карьеры норм.': 'Старт карьеры', 'Инвестиции beginner норм.': 'Инвестиции beginner', 'Инвестиции intermediate норм.': 'Инвестиции intermediate', 'Стартапы норм.': 'Стартапы', 'Креативные индустрии норм.': 'Креативные индустрии', 'Импортозамещение в технологиях норм.': 'Импортозамещение в технологиях', 'Санкции и возможности норм.': 'Санкции и возможности', 'IT норм.': 'IT', 'Soft skills норм.': 'Soft skills', 'Профессии будущего норм.': 'Профессии будущего', 'Психология и саморазвитие норм.': 'Психология и саморазвитие', 'Фин.грамотность норм.': 'Фин.грамотность', 'Социальное предпринимательство норм.': 'Социальное предпринимательство', 'Мировая экономика': 'Мировая экономика', 'География карьеры': 'География карьеры'}, inplace = True)\n",
    "\n",
    "Motivi = Motivi.drop(['Unnamed: 0', 'Знакомства', 'Поиск работы', 'Карьерная траектория', 'Новые ЗУНы', 'Участие в масштабном мероприятии', 'Спикер', 'Понимание экономической ситуации', 'Отдых с друзьями', 'Альтернатива занятиям', 'СКО', 'среднее'], axis=1)\n",
    "Motivi.rename(columns = {'Знакомства норм.': 'Знакомства', 'Поиск работы норм.': 'Поиск работы', 'Карьерная траектория норм.': 'Карьерная траектория', 'Новые ЗУНы норм.': 'Новые ЗУНы', 'Участие в масштабном мероприятии норм.': 'Участие в масштабном мероприятии', 'Спикер норм.': 'Спикер', 'Понимание экономической ситуации норм.': 'Понимание экономической ситуации', 'Отдых с друзьями норм.': 'Отдых с друзьями', 'Альтернатива занятиям норм.': 'Альтернатива занятиям'}, inplace = True)\n",
    "\n",
    "\n",
    "def rule(x, y):\n",
    "    if x == y:\n",
    "         return x\n",
    "    else:\n",
    "         return y\n",
    "\n",
    "Dosug['выбор_1'] = Dosug.iloc[:, 9:16].T.apply(lambda x: x.nlargest(1).idxmin())\n",
    "Dosug['выбор_2'] = Dosug.iloc[:, 9:16].T.apply(lambda x: x.nlargest(3).idxmin())\n",
    "\n",
    "Format['выбор_1'] = Format.iloc[:, 9:15].T.apply(lambda x: x.nlargest(1).idxmin())\n",
    "Format['выбор_2'] = Format.iloc[:, 9:15].T.apply(lambda x: x.nlargest(3).idxmin())\n",
    "\n",
    "Themes['выбор'] = Themes.iloc[:, 9:25].T.apply(lambda x: x.nlargest(1).idxmin())\n",
    "\n",
    "Motivi['выбор'] = Motivi.iloc[:, 9:19].T.apply(lambda x: x.nlargest(1).idxmin())\n",
    "\n",
    "\n",
    "Dosug['выбор'] = Dosug.apply(lambda x: rule(x['выбор_1'], x['выбор_2']), axis =  1)\n",
    "Dosug = Dosug.drop(['выбор_1', 'выбор_2'], axis=1)\n",
    "\n",
    "Format['выбор'] = Format.apply(lambda x: rule(x['выбор_1'], x['выбор_2']), axis =  1)\n",
    "Format = Format.drop(['выбор_1', 'выбор_2'], axis=1)\n"
   ]
  },
  {
   "cell_type": "code",
   "execution_count": 71,
   "metadata": {},
   "outputs": [],
   "source": [
    "# Create a Pandas Excel writer using XlsxWriter as the engine.\n",
    "writer = pd.ExcelWriter('All_Data.xlsx')\n",
    "\n",
    "# Write each dataframe to a different worksheet.\n",
    "Prostranstvo.to_excel(writer, sheet_name='Prostranstvo')\n",
    "Dosug.to_excel(writer, sheet_name='Dosug')\n",
    "Themes.to_excel(writer, sheet_name='Themes')\n",
    "Format.to_excel(writer, sheet_name='Format')\n",
    "Motivi.to_excel(writer, sheet_name='Motivi')\n",
    "\n",
    "# Close the Pandas Excel writer and output the Excel file.\n",
    "writer.save()"
   ]
  },
  {
   "cell_type": "code",
   "execution_count": null,
   "metadata": {},
   "outputs": [],
   "source": []
  }
 ],
 "metadata": {
  "kernelspec": {
   "display_name": "Python 3.10.4 64-bit",
   "language": "python",
   "name": "python3"
  },
  "language_info": {
   "codemirror_mode": {
    "name": "ipython",
    "version": 3
   },
   "file_extension": ".py",
   "mimetype": "text/x-python",
   "name": "python",
   "nbconvert_exporter": "python",
   "pygments_lexer": "ipython3",
   "version": "3.10.4"
  },
  "orig_nbformat": 4,
  "vscode": {
   "interpreter": {
    "hash": "aee8b7b246df8f9039afb4144a1f6fd8d2ca17a180786b69acc140d282b71a49"
   }
  }
 },
 "nbformat": 4,
 "nbformat_minor": 2
}
