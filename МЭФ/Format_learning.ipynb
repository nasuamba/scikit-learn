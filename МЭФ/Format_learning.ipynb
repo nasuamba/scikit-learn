{
 "cells": [
  {
   "cell_type": "code",
   "execution_count": 2,
   "metadata": {},
   "outputs": [],
   "source": [
    "import numpy as np\n",
    "import pandas as pd\n",
    "import seaborn as sns\n",
    "import matplotlib.pyplot as plt\n",
    "from sklearn.linear_model import LogisticRegression\n",
    "# from sklearn.preprocessing import LabelEncoder\n",
    "from sklearn.preprocessing import OneHotEncoder"
   ]
  },
  {
   "cell_type": "code",
   "execution_count": 4,
   "metadata": {},
   "outputs": [
    {
     "name": "stderr",
     "output_type": "stream",
     "text": [
      "/var/folders/9z/l1j6fqx94236qbp68r3y8_jh0000gn/T/ipykernel_19798/4096145605.py:6: FutureWarning: In a future version of pandas all arguments of concat except for the argument 'objs' will be keyword-only.\n",
      "  Format = pd.concat((Format,pd.get_dummies(Format.Пол)),1)\n",
      "/var/folders/9z/l1j6fqx94236qbp68r3y8_jh0000gn/T/ipykernel_19798/4096145605.py:7: FutureWarning: In a future version of pandas all arguments of concat except for the argument 'objs' will be keyword-only.\n",
      "  Format = pd.concat((Format,pd.get_dummies(Format.ОУ)),1)\n",
      "/var/folders/9z/l1j6fqx94236qbp68r3y8_jh0000gn/T/ipykernel_19798/4096145605.py:8: FutureWarning: In a future version of pandas all arguments of concat except for the argument 'objs' will be keyword-only.\n",
      "  Format = pd.concat((Format,pd.get_dummies(Format.Факультет_ГЭУ)),1)\n"
     ]
    }
   ],
   "source": [
    "Format = pd.read_excel(\"Data.xlsx\", sheet_name=\"Format\")\n",
    "\n",
    "Format = Format.drop(['Unnamed: 0', 'Диалог на равных', 'Мастер-класс', 'Дискуссия', 'Форсайт', 'Выступление', 'Кейс', 'СКО', 'среднее'], axis=1)\n",
    "Format.rename(columns = {'Диалог на равных норм.': 'Диалог на равных', 'Мастер-класс группа норм.': 'Мастер-класс', 'Дискуссия норм.': 'Дискуссия', 'Форсайт норм.': 'Форсайт', 'Выступление норм.': 'Выступление', 'Кейс норм.': 'Кейс'}, inplace = True)\n",
    "\n",
    "Format = pd.concat((Format,pd.get_dummies(Format.Пол)),1)\n",
    "Format = pd.concat((Format,pd.get_dummies(Format.ОУ)),1)\n",
    "Format = pd.concat((Format,pd.get_dummies(Format.Факультет_ГЭУ)),1)\n",
    "Format['выбор_1'] = Format.iloc[:, 9:15].T.apply(lambda x: x.nlargest(1).idxmin())\n",
    "Format['выбор_2'] = Format.iloc[:, 9:15].T.apply(lambda x: x.nlargest(3).idxmin())\n",
    "\n",
    "def rule(x, y):\n",
    "    if x == y:\n",
    "         return x\n",
    "    else:\n",
    "         return y\n",
    "\n",
    "Format['выбор'] = Format.apply(lambda x: rule(x['выбор_1'], x['выбор_2']), axis =  1)\n",
    "\n",
    "Format_new = Format[['Возраст', 'Женский', 'Мужской', 'Другой вуз', 'Закончил обучение', 'Колледж / техникум / профессиональное(ый) училище или лицей', 'СПбГЭУ', 'Школа / гимназия / лицей', 'выбор']]"
   ]
  },
  {
   "cell_type": "code",
   "execution_count": 5,
   "metadata": {},
   "outputs": [
    {
     "name": "stderr",
     "output_type": "stream",
     "text": [
      "/Library/Frameworks/Python.framework/Versions/3.10/lib/python3.10/site-packages/sklearn/linear_model/_logistic.py:444: ConvergenceWarning: lbfgs failed to converge (status=1):\n",
      "STOP: TOTAL NO. of ITERATIONS REACHED LIMIT.\n",
      "\n",
      "Increase the number of iterations (max_iter) or scale the data as shown in:\n",
      "    https://scikit-learn.org/stable/modules/preprocessing.html\n",
      "Please also refer to the documentation for alternative solver options:\n",
      "    https://scikit-learn.org/stable/modules/linear_model.html#logistic-regression\n",
      "  n_iter_i = _check_optimize_result(\n"
     ]
    },
    {
     "data": {
      "text/html": [
       "<style>#sk-container-id-1 {color: black;background-color: white;}#sk-container-id-1 pre{padding: 0;}#sk-container-id-1 div.sk-toggleable {background-color: white;}#sk-container-id-1 label.sk-toggleable__label {cursor: pointer;display: block;width: 100%;margin-bottom: 0;padding: 0.3em;box-sizing: border-box;text-align: center;}#sk-container-id-1 label.sk-toggleable__label-arrow:before {content: \"▸\";float: left;margin-right: 0.25em;color: #696969;}#sk-container-id-1 label.sk-toggleable__label-arrow:hover:before {color: black;}#sk-container-id-1 div.sk-estimator:hover label.sk-toggleable__label-arrow:before {color: black;}#sk-container-id-1 div.sk-toggleable__content {max-height: 0;max-width: 0;overflow: hidden;text-align: left;background-color: #f0f8ff;}#sk-container-id-1 div.sk-toggleable__content pre {margin: 0.2em;color: black;border-radius: 0.25em;background-color: #f0f8ff;}#sk-container-id-1 input.sk-toggleable__control:checked~div.sk-toggleable__content {max-height: 200px;max-width: 100%;overflow: auto;}#sk-container-id-1 input.sk-toggleable__control:checked~label.sk-toggleable__label-arrow:before {content: \"▾\";}#sk-container-id-1 div.sk-estimator input.sk-toggleable__control:checked~label.sk-toggleable__label {background-color: #d4ebff;}#sk-container-id-1 div.sk-label input.sk-toggleable__control:checked~label.sk-toggleable__label {background-color: #d4ebff;}#sk-container-id-1 input.sk-hidden--visually {border: 0;clip: rect(1px 1px 1px 1px);clip: rect(1px, 1px, 1px, 1px);height: 1px;margin: -1px;overflow: hidden;padding: 0;position: absolute;width: 1px;}#sk-container-id-1 div.sk-estimator {font-family: monospace;background-color: #f0f8ff;border: 1px dotted black;border-radius: 0.25em;box-sizing: border-box;margin-bottom: 0.5em;}#sk-container-id-1 div.sk-estimator:hover {background-color: #d4ebff;}#sk-container-id-1 div.sk-parallel-item::after {content: \"\";width: 100%;border-bottom: 1px solid gray;flex-grow: 1;}#sk-container-id-1 div.sk-label:hover label.sk-toggleable__label {background-color: #d4ebff;}#sk-container-id-1 div.sk-serial::before {content: \"\";position: absolute;border-left: 1px solid gray;box-sizing: border-box;top: 0;bottom: 0;left: 50%;z-index: 0;}#sk-container-id-1 div.sk-serial {display: flex;flex-direction: column;align-items: center;background-color: white;padding-right: 0.2em;padding-left: 0.2em;position: relative;}#sk-container-id-1 div.sk-item {position: relative;z-index: 1;}#sk-container-id-1 div.sk-parallel {display: flex;align-items: stretch;justify-content: center;background-color: white;position: relative;}#sk-container-id-1 div.sk-item::before, #sk-container-id-1 div.sk-parallel-item::before {content: \"\";position: absolute;border-left: 1px solid gray;box-sizing: border-box;top: 0;bottom: 0;left: 50%;z-index: -1;}#sk-container-id-1 div.sk-parallel-item {display: flex;flex-direction: column;z-index: 1;position: relative;background-color: white;}#sk-container-id-1 div.sk-parallel-item:first-child::after {align-self: flex-end;width: 50%;}#sk-container-id-1 div.sk-parallel-item:last-child::after {align-self: flex-start;width: 50%;}#sk-container-id-1 div.sk-parallel-item:only-child::after {width: 0;}#sk-container-id-1 div.sk-dashed-wrapped {border: 1px dashed gray;margin: 0 0.4em 0.5em 0.4em;box-sizing: border-box;padding-bottom: 0.4em;background-color: white;}#sk-container-id-1 div.sk-label label {font-family: monospace;font-weight: bold;display: inline-block;line-height: 1.2em;}#sk-container-id-1 div.sk-label-container {text-align: center;}#sk-container-id-1 div.sk-container {/* jupyter's `normalize.less` sets `[hidden] { display: none; }` but bootstrap.min.css set `[hidden] { display: none !important; }` so we also need the `!important` here to be able to override the default hidden behavior on the sphinx rendered scikit-learn.org. See: https://github.com/scikit-learn/scikit-learn/issues/21755 */display: inline-block !important;position: relative;}#sk-container-id-1 div.sk-text-repr-fallback {display: none;}</style><div id=\"sk-container-id-1\" class=\"sk-top-container\"><div class=\"sk-text-repr-fallback\"><pre>LogisticRegression()</pre><b>In a Jupyter environment, please rerun this cell to show the HTML representation or trust the notebook. <br />On GitHub, the HTML representation is unable to render, please try loading this page with nbviewer.org.</b></div><div class=\"sk-container\" hidden><div class=\"sk-item\"><div class=\"sk-estimator sk-toggleable\"><input class=\"sk-toggleable__control sk-hidden--visually\" id=\"sk-estimator-id-1\" type=\"checkbox\" checked><label for=\"sk-estimator-id-1\" class=\"sk-toggleable__label sk-toggleable__label-arrow\">LogisticRegression</label><div class=\"sk-toggleable__content\"><pre>LogisticRegression()</pre></div></div></div></div></div>"
      ],
      "text/plain": [
       "LogisticRegression()"
      ]
     },
     "execution_count": 5,
     "metadata": {},
     "output_type": "execute_result"
    }
   ],
   "source": [
    "y = Format_new.выбор\n",
    "x = Format_new.drop('выбор',\n",
    "            axis=1)  # все кроме последней колонки (axis=1 => по столбцам)\n",
    "\n",
    "model = LogisticRegression()\n",
    "model.fit(x, y)"
   ]
  },
  {
   "cell_type": "code",
   "execution_count": 6,
   "metadata": {},
   "outputs": [
    {
     "data": {
      "text/html": [
       "<div>\n",
       "<style scoped>\n",
       "    .dataframe tbody tr th:only-of-type {\n",
       "        vertical-align: middle;\n",
       "    }\n",
       "\n",
       "    .dataframe tbody tr th {\n",
       "        vertical-align: top;\n",
       "    }\n",
       "\n",
       "    .dataframe thead th {\n",
       "        text-align: right;\n",
       "    }\n",
       "</style>\n",
       "<table border=\"1\" class=\"dataframe\">\n",
       "  <thead>\n",
       "    <tr style=\"text-align: right;\">\n",
       "      <th></th>\n",
       "      <th>Возраст</th>\n",
       "      <th>Женский</th>\n",
       "      <th>Мужской</th>\n",
       "      <th>Другой вуз</th>\n",
       "      <th>Закончил обучение</th>\n",
       "      <th>Колледж / техникум / профессиональное(ый) училище или лицей</th>\n",
       "      <th>СПбГЭУ</th>\n",
       "      <th>Школа / гимназия / лицей</th>\n",
       "      <th>выбор</th>\n",
       "    </tr>\n",
       "  </thead>\n",
       "  <tbody>\n",
       "    <tr>\n",
       "      <th>0</th>\n",
       "      <td>20</td>\n",
       "      <td>1</td>\n",
       "      <td>0</td>\n",
       "      <td>0</td>\n",
       "      <td>0</td>\n",
       "      <td>0</td>\n",
       "      <td>1</td>\n",
       "      <td>0</td>\n",
       "      <td>Дискуссия</td>\n",
       "    </tr>\n",
       "    <tr>\n",
       "      <th>1</th>\n",
       "      <td>19</td>\n",
       "      <td>1</td>\n",
       "      <td>0</td>\n",
       "      <td>0</td>\n",
       "      <td>0</td>\n",
       "      <td>0</td>\n",
       "      <td>1</td>\n",
       "      <td>0</td>\n",
       "      <td>Форсайт</td>\n",
       "    </tr>\n",
       "    <tr>\n",
       "      <th>2</th>\n",
       "      <td>20</td>\n",
       "      <td>1</td>\n",
       "      <td>0</td>\n",
       "      <td>0</td>\n",
       "      <td>0</td>\n",
       "      <td>0</td>\n",
       "      <td>1</td>\n",
       "      <td>0</td>\n",
       "      <td>Мастер-класс</td>\n",
       "    </tr>\n",
       "    <tr>\n",
       "      <th>3</th>\n",
       "      <td>20</td>\n",
       "      <td>1</td>\n",
       "      <td>0</td>\n",
       "      <td>0</td>\n",
       "      <td>0</td>\n",
       "      <td>0</td>\n",
       "      <td>1</td>\n",
       "      <td>0</td>\n",
       "      <td>Мастер-класс</td>\n",
       "    </tr>\n",
       "    <tr>\n",
       "      <th>4</th>\n",
       "      <td>19</td>\n",
       "      <td>1</td>\n",
       "      <td>0</td>\n",
       "      <td>0</td>\n",
       "      <td>0</td>\n",
       "      <td>0</td>\n",
       "      <td>1</td>\n",
       "      <td>0</td>\n",
       "      <td>Диалог на равных</td>\n",
       "    </tr>\n",
       "  </tbody>\n",
       "</table>\n",
       "</div>"
      ],
      "text/plain": [
       "   Возраст  Женский  Мужской  Другой вуз  Закончил обучение  \\\n",
       "0       20        1        0           0                  0   \n",
       "1       19        1        0           0                  0   \n",
       "2       20        1        0           0                  0   \n",
       "3       20        1        0           0                  0   \n",
       "4       19        1        0           0                  0   \n",
       "\n",
       "   Колледж / техникум / профессиональное(ый) училище или лицей  СПбГЭУ  \\\n",
       "0                                                  0                 1   \n",
       "1                                                  0                 1   \n",
       "2                                                  0                 1   \n",
       "3                                                  0                 1   \n",
       "4                                                  0                 1   \n",
       "\n",
       "   Школа / гимназия / лицей             выбор  \n",
       "0                         0         Дискуссия  \n",
       "1                         0           Форсайт  \n",
       "2                         0      Мастер-класс  \n",
       "3                         0      Мастер-класс  \n",
       "4                         0  Диалог на равных  "
      ]
     },
     "execution_count": 6,
     "metadata": {},
     "output_type": "execute_result"
    }
   ],
   "source": [
    "Format_new.head()"
   ]
  },
  {
   "cell_type": "code",
   "execution_count": 7,
   "metadata": {},
   "outputs": [
    {
     "data": {
      "text/plain": [
       "{'Возраст': [0],\n",
       " 'Женский': [0],\n",
       " 'Мужской': [0],\n",
       " 'Другой вуз': [0],\n",
       " 'Закончил обучение': [0],\n",
       " 'Колледж / техникум / профессиональное(ый) училище или лицей': [0],\n",
       " 'СПбГЭУ': [0],\n",
       " 'Школа / гимназия / лицей': [0]}"
      ]
     },
     "execution_count": 7,
     "metadata": {},
     "output_type": "execute_result"
    }
   ],
   "source": [
    "{col:[0] for col in x.columns}"
   ]
  },
  {
   "cell_type": "code",
   "execution_count": 16,
   "metadata": {},
   "outputs": [
    {
     "name": "stdout",
     "output_type": "stream",
     "text": [
      "['Диалог на равных']\n"
     ]
    }
   ],
   "source": [
    "example = {'Возраст': [21],\n",
    " 'Женский': [1],\n",
    " 'Мужской': [0],\n",
    " 'Другой вуз': [0],\n",
    " 'Закончил обучение': [0],\n",
    " 'Колледж / техникум / профессиональное(ый) училище или лицей': [0],\n",
    " 'СПбГЭУ': [1],\n",
    " 'Школа / гимназия / лицей': [0]}\n",
    "\n",
    "example_df = pd.DataFrame(example)\n",
    "\n",
    "result = model.predict(example_df)\n",
    "print(result)"
   ]
  },
  {
   "cell_type": "code",
   "execution_count": 35,
   "metadata": {},
   "outputs": [
    {
     "name": "stdout",
     "output_type": "stream",
     "text": [
      "['Форсайт']\n"
     ]
    }
   ],
   "source": [
    "example = {'Возраст': [48],\n",
    " 'Женский': [0],\n",
    " 'Мужской': [1],\n",
    " 'Другой вуз': [0],\n",
    " 'Закончил обучение': [1],\n",
    " 'Колледж / техникум / профессиональное(ый) училище или лицей': [0],\n",
    " 'СПбГЭУ': [0],\n",
    " 'Школа / гимназия / лицей': [0]}\n",
    "\n",
    "example_df = pd.DataFrame(example)\n",
    "\n",
    "result = model.predict(example_df)\n",
    "print(result)"
   ]
  }
 ],
 "metadata": {
  "kernelspec": {
   "display_name": "Python 3.10.4 64-bit",
   "language": "python",
   "name": "python3"
  },
  "language_info": {
   "codemirror_mode": {
    "name": "ipython",
    "version": 3
   },
   "file_extension": ".py",
   "mimetype": "text/x-python",
   "name": "python",
   "nbconvert_exporter": "python",
   "pygments_lexer": "ipython3",
   "version": "3.10.4"
  },
  "orig_nbformat": 4,
  "vscode": {
   "interpreter": {
    "hash": "aee8b7b246df8f9039afb4144a1f6fd8d2ca17a180786b69acc140d282b71a49"
   }
  }
 },
 "nbformat": 4,
 "nbformat_minor": 2
}
